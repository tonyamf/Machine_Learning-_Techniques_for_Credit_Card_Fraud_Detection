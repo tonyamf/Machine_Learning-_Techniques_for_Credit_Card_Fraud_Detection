{
 "cells": [
  {
   "cell_type": "markdown",
   "metadata": {
    "id": "2Q6uWx8wcyRx"
   },
   "source": [
    "# Insert and Exploretion of data\n",
    "\n",
    "To import Creditcard dataset, checking for missing values, "
   ]
  },
  {
   "cell_type": "code",
   "execution_count": 1,
   "metadata": {
    "colab": {
     "base_uri": "https://localhost:8080/"
    },
    "id": "l2MlLgv8cyR0",
    "outputId": "43203c37-4caa-4eb7-c00f-2f464bb54cc6"
   },
   "outputs": [
    {
     "name": "stdout",
     "output_type": "stream",
     "text": [
      "Requirement already satisfied: unicodecsv in c:\\users\\antonio franco\\anaconda3\\lib\\site-packages (0.14.1)\n"
     ]
    }
   ],
   "source": [
    "!pip install unicodecsv\n",
    "import unicodecsv\n",
    "import matplotlib.pyplot as plt\n",
    "import numpy as np\n",
    "import pandas as pd\n",
    "\n",
    "\n",
    "f = open('creditcard.csv', 'rb')\n",
    "with open('creditcard.csv', 'rb') as f:\n",
    "    reader = unicodecsv.DictReader(f)\n",
    "    creditcard = list(reader)\n",
    "   \n",
    "df = pd.DataFrame(creditcard)"
   ]
  },
  {
   "cell_type": "code",
   "execution_count": 2,
   "metadata": {
    "colab": {
     "base_uri": "https://localhost:8080/"
    },
    "id": "V3FWihyRcyR8",
    "outputId": "18ddaf2b-744b-4a99-85ce-993fb68e54ba"
   },
   "outputs": [
    {
     "name": "stdout",
     "output_type": "stream",
     "text": [
      "False\n"
     ]
    }
   ],
   "source": [
    "print(df.isna().any().any())  # Detect missing values and return true if there is any missing values\n",
    "#df = df.apply(pd.to_numeric)\n",
    "for i in range(0, 31):\n",
    "  if i > 0 and i < 30:\n",
    "    df.iloc[:,i] = pd.to_numeric(df.iloc[:,i], downcast='float')\n",
    "  elif i == 0:\n",
    "    df.iloc[:,i] = pd.to_numeric(df.iloc[:,i], downcast='signed')\n",
    "  elif i == 30:\n",
    "    df.iloc[:,i] = pd.Categorical(df.iloc[:,i])"
   ]
  },
  {
   "cell_type": "code",
   "execution_count": 3,
   "metadata": {},
   "outputs": [],
   "source": [
    "dfu = df.drop_duplicates()"
   ]
  },
  {
   "cell_type": "markdown",
   "metadata": {
    "id": "kDn_lVxg3Z2G"
   },
   "source": [
    "# Data imbalance and overfitting\n",
    "\n",
    " "
   ]
  },
  {
   "cell_type": "code",
   "execution_count": 4,
   "metadata": {
    "id": "60VGnwgJIryc"
   },
   "outputs": [],
   "source": [
    "import numpy as np\n",
    "from pylab import rcParams\n",
    "import seaborn as sb\n",
    "import matplotlib.pyplot as plt\n",
    "from sklearn.cluster import DBSCAN\n",
    "from collections import Counter\n",
    "from sklearn.preprocessing import StandardScaler\n",
    "from pylab import rcParams\n",
    "rcParams['figure.figsize'] = 14, 6\n",
    "%matplotlib inline"
   ]
  },
  {
   "cell_type": "code",
   "execution_count": 5,
   "metadata": {},
   "outputs": [
    {
     "name": "stdout",
     "output_type": "stream",
     "text": [
      "  5.6 secs\n",
      "250675\n",
      "353\n"
     ]
    }
   ],
   "source": [
    "import numpy as np\n",
    "import seaborn as sns\n",
    "from sklearn.decomposition import PCA\n",
    "from numpy import percentile\n",
    "import time\n",
    "\n",
    "target = pd.DataFrame(dfu.iloc[:,30])\n",
    "#datas = StandardScaler().fit(target)\n",
    "yTarget = pd.DataFrame(target).to_numpy()\n",
    "time_start = time.perf_counter()\n",
    "\n",
    "\n",
    "sc = StandardScaler()\n",
    "data = pd.DataFrame(dfu.iloc[:,0:30])\n",
    "\n",
    "#dfy = pd.Categorical(datas.transform(target))\n",
    "dataf = sc.fit(data)\n",
    "dfX = dataf.transform(data)\n",
    "pca = PCA(n_components=1)  # Reduce to k=3 dimensions)\n",
    "X_reduce = pca.fit_transform(dfX)\n",
    "q1, q3 = percentile(X_reduce, 25), percentile(X_reduce, 75)\n",
    "iqr = np.abs(q3 - q1)\n",
    "margin = iqr * 1.5\n",
    "lower, upper = q1 - margin, q3 + margin\n",
    "i =0\n",
    "l = 0\n",
    "w=0\n",
    "for x in X_reduce:\n",
    "    if x < upper and x > lower:\n",
    "        if yTarget[i] == \"1\":\n",
    "            w=w+1\n",
    "        l=l+1\n",
    "    i=i+1\n",
    "    \n",
    "time_elapsed = (time.perf_counter() - time_start)\n",
    "#memMb=resource.getrusage(resource.RUSAGE_SELF).ru_maxrss/1024.0/1024.0\n",
    "print (\"%5.1f secs\" % (time_elapsed)) \n",
    "print(l)\n",
    "print(w)"
   ]
  },
  {
   "cell_type": "markdown",
   "metadata": {},
   "source": [
    "# Smote\n"
   ]
  },
  {
   "cell_type": "code",
   "execution_count": 6,
   "metadata": {},
   "outputs": [
    {
     "name": "stdout",
     "output_type": "stream",
     "text": [
      "Resampled dataset shape Counter({'Class': 1})\n",
      "3952.8 secs\n"
     ]
    }
   ],
   "source": [
    "from collections import Counter\n",
    "from imblearn.over_sampling import SVMSMOTE\n",
    "from imblearn.combine import SMOTEENN# doctest: +NORMALIZE_WHITESPACE\n",
    "import time\n",
    "\n",
    "time_start = time.perf_counter()\n",
    "sm = SMOTEENN(sampling_strategy=0.1, random_state=42)\n",
    "X_res, y_res = sm.fit_resample(dfX, target)\n",
    "print('Resampled dataset shape %s' % Counter(y_res))\n",
    "time_elapsed = (time.perf_counter() - time_start)\n",
    "print (\"%5.1f secs\" % (time_elapsed)) \n"
   ]
  },
  {
   "cell_type": "code",
   "execution_count": 7,
   "metadata": {},
   "outputs": [
    {
     "name": "stdout",
     "output_type": "stream",
     "text": [
      "Resampled dataset shape Counter({'Class': 1})\n",
      "  1.5 secs\n"
     ]
    }
   ],
   "source": [
    "from collections import Counter\n",
    "from imblearn.under_sampling import RandomUnderSampler # doctest: +NORMALIZE_WHITESPACE\n",
    "\n",
    "time_start = time.perf_counter()\n",
    "cc = RandomUnderSampler(random_state=42)\n",
    "X_cc, y_cc = cc.fit_resample(X_res, y_res)\n",
    "print('Resampled dataset shape %s' % Counter(y_cc))\n",
    "time_elapsed = (time.perf_counter() - time_start)\n",
    "print (\"%5.1f secs\" % (time_elapsed))"
   ]
  },
  {
   "cell_type": "markdown",
   "metadata": {},
   "source": [
    "# Unsupervised Model one class SVM"
   ]
  },
  {
   "cell_type": "code",
   "execution_count": 8,
   "metadata": {},
   "outputs": [
    {
     "name": "stdout",
     "output_type": "stream",
     "text": [
      "56632\n"
     ]
    },
    {
     "name": "stderr",
     "output_type": "stream",
     "text": [
      "C:\\Users\\Antonio franco\\anaconda3\\lib\\site-packages\\sklearn\\utils\\validation.py:73: DataConversionWarning: A column-vector y was passed when a 1d array was expected. Please change the shape of y to (n_samples, ), for example using ravel().\n",
      "  return f(**kwargs)\n",
      "C:\\Users\\Antonio franco\\anaconda3\\lib\\site-packages\\sklearn\\utils\\validation.py:73: DataConversionWarning: A column-vector y was passed when a 1d array was expected. Please change the shape of y to (n_samples, ), for example using ravel().\n",
      "  return f(**kwargs)\n",
      "C:\\Users\\Antonio franco\\anaconda3\\lib\\site-packages\\sklearn\\utils\\validation.py:73: DataConversionWarning: A column-vector y was passed when a 1d array was expected. Please change the shape of y to (n_samples, ), for example using ravel().\n",
      "  return f(**kwargs)\n",
      "C:\\Users\\Antonio franco\\anaconda3\\lib\\site-packages\\sklearn\\utils\\validation.py:73: DataConversionWarning: A column-vector y was passed when a 1d array was expected. Please change the shape of y to (n_samples, ), for example using ravel().\n",
      "  return f(**kwargs)\n",
      "C:\\Users\\Antonio franco\\anaconda3\\lib\\site-packages\\sklearn\\utils\\validation.py:73: DataConversionWarning: A column-vector y was passed when a 1d array was expected. Please change the shape of y to (n_samples, ), for example using ravel().\n",
      "  return f(**kwargs)\n",
      "C:\\Users\\Antonio franco\\anaconda3\\lib\\site-packages\\sklearn\\utils\\validation.py:73: DataConversionWarning: A column-vector y was passed when a 1d array was expected. Please change the shape of y to (n_samples, ), for example using ravel().\n",
      "  return f(**kwargs)\n"
     ]
    },
    {
     "name": "stdout",
     "output_type": "stream",
     "text": [
      "637.9 secs\n"
     ]
    },
    {
     "data": {
      "text/plain": [
       "['mean_fit_time',\n",
       " 'mean_score_time',\n",
       " 'mean_test_score',\n",
       " 'param_C',\n",
       " 'param_gamma',\n",
       " 'param_kernel',\n",
       " 'params',\n",
       " 'rank_test_score',\n",
       " 'split0_test_score',\n",
       " 'split1_test_score',\n",
       " 'split2_test_score',\n",
       " 'split3_test_score',\n",
       " 'split4_test_score',\n",
       " 'std_fit_time',\n",
       " 'std_score_time',\n",
       " 'std_test_score']"
      ]
     },
     "execution_count": 8,
     "metadata": {},
     "output_type": "execute_result"
    }
   ],
   "source": [
    "from sklearn import svm\n",
    "from sklearn.model_selection import train_test_split\n",
    "from sklearn.model_selection import GridSearchCV\n",
    "from sklearn.metrics import classification_report\n",
    "import time\n",
    "print(len(X_cc))\n",
    "time_start = time.perf_counter()\n",
    "X_train, X_test, y_train, y_test = train_test_split(X_cc, y_cc, test_size=0.3, random_state=0)\n",
    "tuned_parameters = [{'kernel': ['rbf'], 'gamma': [1e-3],\n",
    "                     'C': [100]}]\n",
    "svc = svm.SVC(probability=True)\n",
    "clf = GridSearchCV(svc, tuned_parameters, cv=5)\n",
    "clf.fit(X_train, y_train)\n",
    "time_elapsed = (time.perf_counter() - time_start)\n",
    "print (\"%5.1f secs\" % (time_elapsed)) \n",
    "sorted(clf.cv_results_.keys())"
   ]
  },
  {
   "cell_type": "code",
   "execution_count": 9,
   "metadata": {},
   "outputs": [
    {
     "name": "stdout",
     "output_type": "stream",
     "text": [
      "{'C': 100, 'break_ties': False, 'cache_size': 200, 'class_weight': None, 'coef0': 0.0, 'decision_function_shape': 'ovr', 'degree': 3, 'gamma': 0.001, 'kernel': 'rbf', 'max_iter': -1, 'probability': True, 'random_state': None, 'shrinking': True, 'tol': 0.001, 'verbose': False}\n",
      "<bound method ClassifierMixin.score of SVC(C=100, gamma=0.001, probability=True)>\n"
     ]
    }
   ],
   "source": [
    "print(clf.best_estimator_.get_params(deep=True))\n",
    "print(clf.best_estimator_.score)"
   ]
  },
  {
   "cell_type": "markdown",
   "metadata": {},
   "source": [
    "# Accuracy SVM bes_estimator"
   ]
  },
  {
   "cell_type": "code",
   "execution_count": 10,
   "metadata": {},
   "outputs": [
    {
     "name": "stderr",
     "output_type": "stream",
     "text": [
      "C:\\Users\\Antonio franco\\anaconda3\\lib\\site-packages\\sklearn\\utils\\validation.py:73: DataConversionWarning: A column-vector y was passed when a 1d array was expected. Please change the shape of y to (n_samples, ), for example using ravel().\n",
      "  return f(**kwargs)\n",
      "C:\\Users\\Antonio franco\\anaconda3\\lib\\site-packages\\sklearn\\utils\\validation.py:73: DataConversionWarning: A column-vector y was passed when a 1d array was expected. Please change the shape of y to (n_samples, ), for example using ravel().\n",
      "  return f(**kwargs)\n",
      "C:\\Users\\Antonio franco\\anaconda3\\lib\\site-packages\\sklearn\\utils\\validation.py:73: DataConversionWarning: A column-vector y was passed when a 1d array was expected. Please change the shape of y to (n_samples, ), for example using ravel().\n",
      "  return f(**kwargs)\n",
      "C:\\Users\\Antonio franco\\anaconda3\\lib\\site-packages\\sklearn\\utils\\validation.py:73: DataConversionWarning: A column-vector y was passed when a 1d array was expected. Please change the shape of y to (n_samples, ), for example using ravel().\n",
      "  return f(**kwargs)\n",
      "C:\\Users\\Antonio franco\\anaconda3\\lib\\site-packages\\sklearn\\utils\\validation.py:73: DataConversionWarning: A column-vector y was passed when a 1d array was expected. Please change the shape of y to (n_samples, ), for example using ravel().\n",
      "  return f(**kwargs)\n"
     ]
    },
    {
     "name": "stdout",
     "output_type": "stream",
     "text": [
      "Accuracy: 0.972 (0.003)\n",
      " 79.1 secs\n"
     ]
    }
   ],
   "source": [
    "from sklearn import model_selection\n",
    "import time\n",
    "time_start = time.perf_counter()\n",
    "kfold = model_selection.KFold(n_splits=5, random_state=7, shuffle=True)\n",
    "scoring = 'accuracy'\n",
    "results = model_selection.cross_val_score(clf.best_estimator_, X_test, y_test, cv=kfold, scoring=scoring)\n",
    "print(\"Accuracy: %.3f (%.3f)\" % (results.mean(), results.std()))\n",
    "time_elapsed = (time.perf_counter() - time_start)\n",
    "print (\"%5.1f secs\" % (time_elapsed))"
   ]
  },
  {
   "cell_type": "code",
   "execution_count": 11,
   "metadata": {},
   "outputs": [
    {
     "name": "stderr",
     "output_type": "stream",
     "text": [
      "C:\\Users\\Antonio franco\\anaconda3\\lib\\site-packages\\sklearn\\utils\\validation.py:73: DataConversionWarning: A column-vector y was passed when a 1d array was expected. Please change the shape of y to (n_samples, ), for example using ravel().\n",
      "  return f(**kwargs)\n",
      "C:\\Users\\Antonio franco\\anaconda3\\lib\\site-packages\\sklearn\\utils\\validation.py:73: DataConversionWarning: A column-vector y was passed when a 1d array was expected. Please change the shape of y to (n_samples, ), for example using ravel().\n",
      "  return f(**kwargs)\n",
      "C:\\Users\\Antonio franco\\anaconda3\\lib\\site-packages\\sklearn\\utils\\validation.py:73: DataConversionWarning: A column-vector y was passed when a 1d array was expected. Please change the shape of y to (n_samples, ), for example using ravel().\n",
      "  return f(**kwargs)\n",
      "C:\\Users\\Antonio franco\\anaconda3\\lib\\site-packages\\sklearn\\utils\\validation.py:73: DataConversionWarning: A column-vector y was passed when a 1d array was expected. Please change the shape of y to (n_samples, ), for example using ravel().\n",
      "  return f(**kwargs)\n",
      "C:\\Users\\Antonio franco\\anaconda3\\lib\\site-packages\\sklearn\\utils\\validation.py:73: DataConversionWarning: A column-vector y was passed when a 1d array was expected. Please change the shape of y to (n_samples, ), for example using ravel().\n",
      "  return f(**kwargs)\n"
     ]
    },
    {
     "name": "stdout",
     "output_type": "stream",
     "text": [
      "Accuracy: 0.999 (0.000)\n",
      "1185.7 secs\n"
     ]
    }
   ],
   "source": [
    "from sklearn import model_selection\n",
    "import time\n",
    "time_start = time.perf_counter()\n",
    "scoring = 'accuracy'\n",
    "results = model_selection.cross_val_score(clf.best_estimator_, dfX, target, cv=kfold, scoring=scoring)\n",
    "print(\"Accuracy: %.3f (%.3f)\" % (results.mean(), results.std()))\n",
    "time_elapsed = (time.perf_counter() - time_start)\n",
    "print (\"%5.1f secs\" % (time_elapsed))"
   ]
  },
  {
   "cell_type": "code",
   "execution_count": 12,
   "metadata": {},
   "outputs": [
    {
     "name": "stderr",
     "output_type": "stream",
     "text": [
      "C:\\Users\\Antonio franco\\anaconda3\\lib\\site-packages\\sklearn\\utils\\validation.py:73: DataConversionWarning: A column-vector y was passed when a 1d array was expected. Please change the shape of y to (n_samples, ), for example using ravel().\n",
      "  return f(**kwargs)\n",
      "C:\\Users\\Antonio franco\\anaconda3\\lib\\site-packages\\sklearn\\utils\\validation.py:73: DataConversionWarning: A column-vector y was passed when a 1d array was expected. Please change the shape of y to (n_samples, ), for example using ravel().\n",
      "  return f(**kwargs)\n",
      "C:\\Users\\Antonio franco\\anaconda3\\lib\\site-packages\\sklearn\\utils\\validation.py:73: DataConversionWarning: A column-vector y was passed when a 1d array was expected. Please change the shape of y to (n_samples, ), for example using ravel().\n",
      "  return f(**kwargs)\n",
      "C:\\Users\\Antonio franco\\anaconda3\\lib\\site-packages\\sklearn\\utils\\validation.py:73: DataConversionWarning: A column-vector y was passed when a 1d array was expected. Please change the shape of y to (n_samples, ), for example using ravel().\n",
      "  return f(**kwargs)\n",
      "C:\\Users\\Antonio franco\\anaconda3\\lib\\site-packages\\sklearn\\utils\\validation.py:73: DataConversionWarning: A column-vector y was passed when a 1d array was expected. Please change the shape of y to (n_samples, ), for example using ravel().\n",
      "  return f(**kwargs)\n"
     ]
    },
    {
     "name": "stdout",
     "output_type": "stream",
     "text": [
      "Logloss: -0.004 (0.001)\n",
      "1206.4 secs\n"
     ]
    }
   ],
   "source": [
    "time_start = time.perf_counter()\n",
    "scoring = 'neg_log_loss'\n",
    "resultslog = model_selection.cross_val_score(clf.best_estimator_, dfX, target , cv=kfold, scoring=scoring)\n",
    "print(\"Logloss: %.3f (%.3f)\" % (resultslog.mean(), resultslog.std()))\n",
    "time_elapsed = (time.perf_counter() - time_start)\n",
    "print (\"%5.1f secs\" % (time_elapsed))"
   ]
  },
  {
   "cell_type": "code",
   "execution_count": 13,
   "metadata": {},
   "outputs": [
    {
     "name": "stdout",
     "output_type": "stream",
     "text": [
      "              precision    recall  f1-score   support\n",
      "\n",
      "           0       1.00      0.98      0.99    283253\n",
      "           1       0.09      0.97      0.17       473\n",
      "\n",
      "    accuracy                           0.98    283726\n",
      "   macro avg       0.55      0.98      0.58    283726\n",
      "weighted avg       1.00      0.98      0.99    283726\n",
      "\n",
      " 97.7 secs\n"
     ]
    }
   ],
   "source": [
    "from sklearn.metrics import classification_report\n",
    "time_start = time.perf_counter()\n",
    "predicted = clf.best_estimator_.predict(dfX)\n",
    "report = classification_report(target, predicted)\n",
    "print(report)\n",
    "time_elapsed = (time.perf_counter() - time_start)\n",
    "print (\"%5.1f secs\" % (time_elapsed))"
   ]
  },
  {
   "cell_type": "code",
   "execution_count": 18,
   "metadata": {},
   "outputs": [
    {
     "name": "stdout",
     "output_type": "stream",
     "text": [
      "No Skill: ROC AUC=0.500\n",
      "SVM with hybrid sampling: ROC AUC=0.996\n"
     ]
    },
    {
     "data": {
      "image/png": "[encoded data removed]",
      "text/plain": [
       "<Figure size 432x288 with 1 Axes>"
      ]
     },
     "metadata": {
      "needs_background": "light"
     },
     "output_type": "display_data"
    },
    {
     "name": "stdout",
     "output_type": "stream",
     "text": [
      " 87.0 secs\n"
     ]
    }
   ],
   "source": [
    "from sklearn.metrics import roc_curve\n",
    "from sklearn.metrics import roc_auc_score\n",
    "from matplotlib import pyplot\n",
    "\n",
    "time_start = time.perf_counter()\n",
    "#scoring = 'roc_auc'\n",
    "#resultsauc = model_selection.cross_val_score(clf, df_X.iloc[:,0:30], Y['Class'] , cv=kfold, scoring=scoring)\n",
    "#print(\"AUC: %.3f (%.3f)\" % (resultsauc.mean(), resultsauc.std()))\n",
    "\n",
    "ns_probs = [0 for _ in range(len(target))]\n",
    "# predict probabilities\n",
    "lr_probs = clf.best_estimator_.predict_proba(dfX)\n",
    "# keep probabilities for the positive outcome only\n",
    "lr_probs = lr_probs[:, 1]\n",
    "# calculate scores\n",
    "#tar = pd.to_numeric(, errors ='ignore') \n",
    "tar = pd.DataFrame(data=target, dtype=np.int8)\n",
    "\n",
    "ns_auc = roc_auc_score(tar.values.ravel(), ns_probs)\n",
    "lr_auc = roc_auc_score(tar.values.ravel(), lr_probs)\n",
    "# summarize scores\n",
    "print('No Skill: ROC AUC=%.3f' % (ns_auc))\n",
    "print('SVM with hybrid sampling: ROC AUC=%.3f' % (lr_auc))\n",
    "# calculate roc curves\n",
    "ns_fpr, ns_tpr, _ = roc_curve(tar.values.ravel(), ns_probs)\n",
    "lr_fpr, lr_tpr, _ = roc_curve(tar.values.ravel(), lr_probs)\n",
    "# plot the roc curve for the model\n",
    "pyplot.plot(ns_fpr, ns_tpr, linestyle='--', label='No Skill')\n",
    "pyplot.plot(lr_fpr, lr_tpr, marker='.', label='hybrid sampling SVM')\n",
    "# axis labels\n",
    "pyplot.xlabel('False Positive Rate')\n",
    "pyplot.ylabel('True Positive Rate')\n",
    "# show the legend\n",
    "pyplot.legend()\n",
    "# show the plot\n",
    "pyplot.show()\n",
    "time_elapsed = (time.perf_counter() - time_start)\n",
    "print (\"%5.1f secs\" % (time_elapsed))"
   ]
  },
  {
   "cell_type": "code",
   "execution_count": 17,
   "metadata": {},
   "outputs": [
    {
     "data": {
      "text/plain": [
       "<matplotlib.axes._subplots.AxesSubplot at 0x2928d29e3a0>"
      ]
     },
     "execution_count": 17,
     "metadata": {},
     "output_type": "execute_result"
    },
    {
     "data": {
      "image/png": "[encoded data removed]",
      "text/plain": [
       "<Figure size 432x288 with 2 Axes>"
      ]
     },
     "metadata": {
      "needs_background": "light"
     },
     "output_type": "display_data"
    }
   ],
   "source": [
    "import seaborn as sns\n",
    "from sklearn.metrics import confusion_matrix\n",
    "predicted = clf.best_estimator_.predict(dfX)\n",
    "matrix = confusion_matrix( target, predicted)\n",
    "sns.heatmap(matrix, annot=True, cmap='Spectral')"
   ]
  },
  {
   "cell_type": "markdown",
   "metadata": {},
   "source": [
    "# Something else"
   ]
  },
  {
   "cell_type": "code",
   "execution_count": null,
   "metadata": {},
   "outputs": [],
   "source": [
    "#not normalize\n",
    "over = RandomOverSampler(sampling_strategy=0.1)\n",
    "x = pd.DataFrame(dfu.iloc[:,0:30])\n",
    "yw = pd.DataFrame(dfu.iloc[:,30])\n",
    "print(yw)\n",
    "X_train_over, y_train_over = over.fit_sample(x, yw)\n",
    "\n",
    "svm_smote = SVMSMOTE()\n",
    "X_train_smote, y_train_smote = svm_smote.fit_sample(X_train_over, y_train_over)\n",
    "\n",
    "under = RandomUnderSampler()\n",
    "X_train, y_train = under.fit_sample(X_train_smote, y_train_smote)\n",
    "\n"
   ]
  },
  {
   "cell_type": "code",
   "execution_count": null,
   "metadata": {},
   "outputs": [],
   "source": [
    "from sklearn.preprocessing import StandardScaler\n",
    "sc = StandardScaler()\n",
    "data = pd.DataFrame(X_train)\n",
    "target = pd.DataFrame(y_train)\n",
    "#datas = StandardScaler().fit(target)\n",
    "#dfy = pd.Categorical(datas.transform(target))\n",
    "dataf = sc.fit(data)\n",
    "dfX = dataf.transform(data)"
   ]
  },
  {
   "cell_type": "code",
   "execution_count": null,
   "metadata": {},
   "outputs": [],
   "source": [
    "from sklearn.model_selection import train_test_split\n",
    "X_train_final, X_test, y_train_final, y_test = train_test_split(dfX, target, test_size = 0.3, random_state = 0)\n",
    "from sklearn.svm import SVC\n",
    "classifier = SVC(kernel = 'rbf', random_state = 0)\n",
    "classifier.fit(X_train_final, y_train_final)\n"
   ]
  },
  {
   "cell_type": "code",
   "execution_count": null,
   "metadata": {},
   "outputs": [],
   "source": [
    "from sklearn.metrics import confusion_matrix, accuracy_score\n",
    "from sklearn.metrics import roc_auc_score\n",
    "y_pred = classifier.predict(X_test)\n",
    "cm = confusion_matrix(y_test, y_pred)\n",
    "print(cm)\n",
    "accuracy_score(y_test, y_pred)\n",
    "print (\"AUC: \", \"{:.1%}\".format(roc_auc_score(y_test, y_pred)))"
   ]
  },
  {
   "cell_type": "code",
   "execution_count": null,
   "metadata": {
    "colab": {
     "background_save": true
    },
    "id": "mY6lqDYpGLio"
   },
   "outputs": [],
   "source": [
    "#under = RandomUnderSampler()\n",
    "#X_train, y_train = under.fit_sample(X_train_smote, y_train_smote)\n",
    "from sklearn.model_selection import train_test_split\n",
    "X_train_final, X_test, y_train_final, y_test = train_test_split(X_train, y_train, test_size = 0.3, random_state = 0)\n"
   ]
  },
  {
   "cell_type": "code",
   "execution_count": null,
   "metadata": {
    "colab": {
     "background_save": true
    },
    "id": "mgMUY_t3XcXH"
   },
   "outputs": [],
   "source": [
    "from sklearn.svm import SVC\n",
    "classifier = SVC(kernel = 'rbf', random_state = 0)\n",
    "classifier.fit(X_train_final, y_train_final)\n",
    "np.any(np.isinf(X_test))"
   ]
  },
  {
   "cell_type": "markdown",
   "metadata": {
    "id": "JTj3guYA3R96"
   },
   "source": []
  },
  {
   "cell_type": "code",
   "execution_count": null,
   "metadata": {
    "colab": {
     "background_save": true
    },
    "id": "fbau-9W3GMww",
    "outputId": "abc8eb05-7b3a-49f1-ff83-dec3fc784570"
   },
   "outputs": [],
   "source": [
    "from sklearn.metrics import confusion_matrix, accuracy_score\n",
    "from sklearn.metrics import roc_auc_score\n",
    "y_pred = classifier.predict(X_test)\n",
    "cm = confusion_matrix(y_test, y_pred)\n",
    "print(cm)\n",
    "accuracy_score(y_test, y_pred)\n",
    "print (\"AUC: \", \"{:.1%}\".format(roc_auc_score(y_test, y_pred)))"
   ]
  },
  {
   "cell_type": "code",
   "execution_count": null,
   "metadata": {
    "colab": {
     "background_save": true
    },
    "id": "s4fa1bhjIln4"
   },
   "outputs": [],
   "source": [
    "y =  target#[target[\"Class\"] == '1']\n",
    "xb = dfu#[dfu['Class'] == '1']\n",
    "xbb = xb.iloc[:,0:30]\n",
    "xc = sc.fit(xbb)\n",
    "x = xc.transform(xbb)\n",
    "from sklearn.metrics import confusion_matrix, accuracy_score\n",
    "y_pred = classifier.predict(x)\n",
    "cm = confusion_matrix( y, y_pred)\n",
    "print(cm)\n",
    "accuracy_score( y, y_pred)"
   ]
  },
  {
   "cell_type": "code",
   "execution_count": null,
   "metadata": {
    "id": "_ejN1LwUKCfJ"
   },
   "outputs": [],
   "source": []
  },
  {
   "cell_type": "code",
   "execution_count": null,
   "metadata": {
    "colab": {
     "base_uri": "https://localhost:8080/"
    },
    "id": "SJl0Y4danBT-",
    "outputId": "77779967-5d15-4506-fb8a-7a0915d8a82d"
   },
   "outputs": [],
   "source": [
    "from sklearn.model_selection import train_test_split\n",
    "\n",
    "from sklearn.ensemble import IsolationForest\n",
    "xb = dfu\n",
    "xbb = xb.iloc[:,0:30]\n",
    "xc = sc.fit(xbb)\n",
    "x = xc.transform(xbb)\n",
    "\n",
    "cif = IsolationForest(max_samples =len(dfu), random_state = 10, contamination = 0.002, n_estimators = 100, max_features=30)\n",
    "\n",
    "\n",
    "cif.fit(xbb)\n",
    "\n",
    "target['Score'] = cif.decision_function(x)\n",
    "\n",
    "print('Fraud', np.mean(target[target[\"Class\"] == '1']['Score']))\n",
    "print('not', np.mean(target[target[\"Class\"] == '0']['Score']))"
   ]
  },
  {
   "cell_type": "code",
   "execution_count": null,
   "metadata": {},
   "outputs": [],
   "source": [
    "print(len(y_train))\n",
    "len(X_train)"
   ]
  },
  {
   "cell_type": "code",
   "execution_count": null,
   "metadata": {},
   "outputs": [],
   "source": [
    "\n",
    "cif = IsolationForest (max_samples = len(X_train), random_state = 10, contamination = 0.02, n_estimators = len(X_train), max_features=30)\n",
    "\n",
    "cif.fit(X_train)\n",
    "\n",
    "y_train['Score'] = cif.decision_function(X_train)\n",
    "\n",
    "print('Fraud', np.mean(y_train[y_train[\"Class\"] == '1']['Score']))\n",
    "print('not', np.mean(y_train[y_train[\"Class\"] == '0']['Score']))"
   ]
  },
  {
   "cell_type": "code",
   "execution_count": null,
   "metadata": {
    "id": "iW6J3KCE7hY4"
   },
   "outputs": [],
   "source": [
    "from sklearn import datasets\n",
    "from sklearn import preprocessing\n",
    "from sklearn.model_selection import train_test_split\n",
    "\n",
    "from sklearn.ensemble import IsolationForest\n",
    "from sklearn.neighbors import LocalOutlierFactor\n",
    "from sklearn import svm\n",
    "from sklearn.neighbors import NearestNeighbors\n",
    "\n",
    "from sklearn.metrics import classification_report\n",
    "from sklearn.metrics import confusion_matrix\n",
    "from sklearn.metrics import recall_score\n",
    "from sklearn.metrics import roc_auc_score\n",
    "from sklearn.model_selection import GridSearchCV\n",
    "from sklearn.metrics import make_scorer\n",
    "from sklearn.metrics import accuracy_score\n",
    "from sklearn.metrics import make_scorer, f1_score\n",
    "from sklearn import model_selection\n",
    "\n",
    "import pandas as pd\n",
    "import numpy as np\n",
    "import itertools\n",
    "import matplotlib.pyplot as plt\n",
    "import datetime\n",
    "xb = dfu\n",
    "xbb = xb.iloc[:,0:30]\n",
    "xc = sc.fit(xbb)\n",
    "x = xc.transform(xbb)\n",
    "tg = xb.iloc[:,30]\n",
    "X_train_if, X_test, y_train_if, y_test = train_test_split(X_train, y_train, test_size = 0.33, random_state = 0)\n",
    "#scoring = {'AUC': 'roc_auc', 'Recall': make_scorer(recall_score, pos_label=-1)}\n",
    "#param_grid={'n_estimators': range(1, 500, 100)}\n",
    "cif = IsolationForest(n_jobs=-1, random_state = 10, contamination = 0.0015, n_estimators = 3, max_samples='auto', max_features=30)\n",
    "#gs = GridSearchCV(cif, ,scoring=scoring, refit='Recall')\n",
    "#clf = IsolationForest(random_state=47, behaviour='new')\n",
    "\n",
    "\n",
    "cif.fit(X_train_if, y_train_if)\n",
    "y_pred = cif.predict(X_train_if)"
   ]
  },
  {
   "cell_type": "code",
   "execution_count": null,
   "metadata": {
    "id": "x0P7GZXfNXlV"
   },
   "outputs": [],
   "source": [
    "\n",
    "cif.fit(X_train_if, y_train_if)\n",
    "y_pred = cif.predict(X_test)"
   ]
  },
  {
   "cell_type": "code",
   "execution_count": null,
   "metadata": {
    "colab": {
     "base_uri": "https://localhost:8080/"
    },
    "id": "JnvrMa6H8qix",
    "outputId": "539b3e53-6e71-4721-84ad-39c05cb3f35e"
   },
   "outputs": [],
   "source": [
    "from sklearn.metrics import classification_report\n",
    "from sklearn.metrics import roc_auc_score\n",
    "from sklearn.metrics import confusion_matrix\n",
    "from sklearn.metrics import confusion_matrix, accuracy_score\n",
    "\n",
    "#cm = confusion_matrix(y_train_if, y_pred)\n",
    "#print(classification_report(y_train_if, y_pred, target_names=['normal', 'fraud']))\n",
    "print (\"AUC: \", \"{:.1%}\".format(roc_auc_score(y_test, y_pred)))\n",
    "\n",
    "cm = confusion_matrix( y_test, y_pred)\n",
    "print(cm)\n",
    "accuracy_score( y_test, y_pred)\n",
    "#plot_confusion_matrix(cm, title=\"IF Confusion Matrix\")"
   ]
  },
  {
   "cell_type": "code",
   "execution_count": null,
   "metadata": {},
   "outputs": [],
   "source": []
  }
 ],
 "metadata": {
  "colab": {
   "collapsed_sections": [
    "2Q6uWx8wcyRx"
   ],
   "name": "Untitled0.ipynb",
   "provenance": [],
   "toc_visible": true
  },
  "kernelspec": {
   "display_name": "Python 3",
   "language": "python",
   "name": "python3"
  },
  "language_info": {
   "codemirror_mode": {
    "name": "ipython",
    "version": 3
   },
   "file_extension": ".py",
   "mimetype": "text/x-python",
   "name": "python",
   "nbconvert_exporter": "python",
   "pygments_lexer": "ipython3",
   "version": "3.8.5"
  }
 },
 "nbformat": 4,
 "nbformat_minor": 1
}
